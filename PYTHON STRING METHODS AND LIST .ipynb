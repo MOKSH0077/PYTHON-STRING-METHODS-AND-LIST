{
 "cells": [
  {
   "cell_type": "markdown",
   "id": "2497efc1-a1e7-49f0-9b9c-0a34eb8973b3",
   "metadata": {},
   "source": [
    "# STRING METHODS "
   ]
  },
  {
   "cell_type": "code",
   "execution_count": 48,
   "id": "3bcda8e2-58f2-468f-8ad2-b0ea9bc1d95a",
   "metadata": {},
   "outputs": [],
   "source": [
    "my_str='HEY THIS is my STRING 1 @'"
   ]
  },
  {
   "cell_type": "code",
   "execution_count": 43,
   "id": "de2a8f4c-3642-4cf2-92bf-df3fffac49e3",
   "metadata": {},
   "outputs": [
    {
     "data": {
      "text/plain": [
       "'Hey this is my string 1 @ '"
      ]
     },
     "execution_count": 43,
     "metadata": {},
     "output_type": "execute_result"
    }
   ],
   "source": [
    "my_str.capitalize()"
   ]
  },
  {
   "cell_type": "code",
   "execution_count": 44,
   "id": "5d721985-d028-4de9-8f59-2c132840fa53",
   "metadata": {},
   "outputs": [
    {
     "data": {
      "text/plain": [
       "'hey this is my string 1 @ '"
      ]
     },
     "execution_count": 44,
     "metadata": {},
     "output_type": "execute_result"
    }
   ],
   "source": [
    "my_str.casefold()"
   ]
  },
  {
   "cell_type": "code",
   "execution_count": 45,
   "id": "85fc34c5-26ba-4df7-9da7-631b1e9e48c3",
   "metadata": {},
   "outputs": [
    {
     "data": {
      "text/plain": [
       "1"
      ]
     },
     "execution_count": 45,
     "metadata": {},
     "output_type": "execute_result"
    }
   ],
   "source": [
    "my_str.count('s')"
   ]
  },
  {
   "cell_type": "code",
   "execution_count": 49,
   "id": "b35d995a-17c4-4ba3-aa85-b1fb22eb2e41",
   "metadata": {},
   "outputs": [
    {
     "data": {
      "text/plain": [
       "True"
      ]
     },
     "execution_count": 49,
     "metadata": {},
     "output_type": "execute_result"
    }
   ],
   "source": [
    "my_str.endswith('@')"
   ]
  },
  {
   "cell_type": "code",
   "execution_count": 50,
   "id": "8364df4e-0e28-493d-a892-1c6a24f34db8",
   "metadata": {},
   "outputs": [
    {
     "data": {
      "text/plain": [
       "4"
      ]
     },
     "execution_count": 50,
     "metadata": {},
     "output_type": "execute_result"
    }
   ],
   "source": [
    "my_str.find('THIS')"
   ]
  },
  {
   "cell_type": "code",
   "execution_count": 52,
   "id": "d1a82216-6007-4bc1-aa1f-d101a61616c6",
   "metadata": {},
   "outputs": [
    {
     "data": {
      "text/plain": [
       "False"
      ]
     },
     "execution_count": 52,
     "metadata": {},
     "output_type": "execute_result"
    }
   ],
   "source": [
    "my_str.isdigit()"
   ]
  },
  {
   "cell_type": "code",
   "execution_count": 53,
   "id": "e0d71670-43f3-422c-bc7c-b7932708c224",
   "metadata": {},
   "outputs": [
    {
     "data": {
      "text/plain": [
       "False"
      ]
     },
     "execution_count": 53,
     "metadata": {},
     "output_type": "execute_result"
    }
   ],
   "source": [
    "my_str.isalpha()"
   ]
  },
  {
   "cell_type": "code",
   "execution_count": 54,
   "id": "d4129233-9355-4225-b63c-c526357efa95",
   "metadata": {},
   "outputs": [
    {
     "data": {
      "text/plain": [
       "'hey this IS MY string 1 @'"
      ]
     },
     "execution_count": 54,
     "metadata": {},
     "output_type": "execute_result"
    }
   ],
   "source": [
    "my_str.swapcase()"
   ]
  },
  {
   "cell_type": "code",
   "execution_count": 55,
   "id": "6afd3419-07f9-4531-84ab-218692d14751",
   "metadata": {},
   "outputs": [
    {
     "data": {
      "text/plain": [
       "False"
      ]
     },
     "execution_count": 55,
     "metadata": {},
     "output_type": "execute_result"
    }
   ],
   "source": [
    "my_str.isalnum()"
   ]
  },
  {
   "cell_type": "code",
   "execution_count": 56,
   "id": "014254f2-fdcb-4427-ba46-64f327a92d04",
   "metadata": {},
   "outputs": [
    {
     "data": {
      "text/plain": [
       "'Hey This Is My String 1 @'"
      ]
     },
     "execution_count": 56,
     "metadata": {},
     "output_type": "execute_result"
    }
   ],
   "source": [
    "my_str.title()"
   ]
  },
  {
   "cell_type": "code",
   "execution_count": 57,
   "id": "c589e587-3f3e-4c37-87eb-9c4e6c055c62",
   "metadata": {},
   "outputs": [
    {
     "data": {
      "text/plain": [
       "False"
      ]
     },
     "execution_count": 57,
     "metadata": {},
     "output_type": "execute_result"
    }
   ],
   "source": [
    "my_str.islower()"
   ]
  },
  {
   "cell_type": "code",
   "execution_count": 61,
   "id": "4429913c-0b73-4057-b8d2-a9e7797c6c75",
   "metadata": {},
   "outputs": [
    {
     "data": {
      "text/plain": [
       "15"
      ]
     },
     "execution_count": 61,
     "metadata": {},
     "output_type": "execute_result"
    }
   ],
   "source": [
    "my_str.rfind('S')"
   ]
  },
  {
   "cell_type": "code",
   "execution_count": 62,
   "id": "8988bac6-d6e8-4bb7-a6b5-27174354e23c",
   "metadata": {},
   "outputs": [
    {
     "data": {
      "text/plain": [
       "('HEY THIS is ', 'm', 'y STRING 1 @')"
      ]
     },
     "execution_count": 62,
     "metadata": {},
     "output_type": "execute_result"
    }
   ],
   "source": [
    "my_str.partition('m')"
   ]
  },
  {
   "cell_type": "code",
   "execution_count": 66,
   "id": "51d08237-3ea2-4f69-a7f6-f67fea0d819c",
   "metadata": {},
   "outputs": [],
   "source": [
    "v=my_str.split('m')"
   ]
  },
  {
   "cell_type": "code",
   "execution_count": 67,
   "id": "a3edcbf0-3991-41bf-a9e5-8d7e89c89e15",
   "metadata": {},
   "outputs": [
    {
     "data": {
      "text/plain": [
       "['HEY THIS is ', 'y STRING 1 @']"
      ]
     },
     "execution_count": 67,
     "metadata": {},
     "output_type": "execute_result"
    }
   ],
   "source": [
    "v"
   ]
  },
  {
   "cell_type": "code",
   "execution_count": 65,
   "id": "0840ac0d-bd51-4c07-8450-6936795ed062",
   "metadata": {},
   "outputs": [
    {
     "data": {
      "text/plain": [
       "'HEY THIS is my STRING 1 @'"
      ]
     },
     "execution_count": 65,
     "metadata": {},
     "output_type": "execute_result"
    }
   ],
   "source": [
    "' '.join(v)\n"
   ]
  },
  {
   "cell_type": "markdown",
   "id": "f32eb6db-a381-498e-92a7-8c1e0ab93ab0",
   "metadata": {},
   "source": [
    "capitalize(): String ka first character capital kar deta hai aur baaki sab lowercase ho jate hain.\n",
    "\n",
    "casefold(): String ko lowercase me convert kar deta hai, aur yeh .lower() se thoda stronger hai kyunki special characters bhi handle karta hai.\n",
    "\n",
    "count(): String me kisi substring ya character ka total occurrences count karta hai.\n",
    "\n",
    "endswith(): Check karta hai ki string kisi specific substring ya character se end ho rahi hai ya nahi. True ya False return karta hai.\n",
    "\n",
    "find(): String me kisi substring ya character ka first occurrence ka index return karta hai. Agar nahi mile toh -1 deta hai.\n",
    "\n",
    "isdigit(): Check karta hai ki string me sirf digits hain ya nahi. Agar sirf digits hain toh True, warna False.\n",
    "\n",
    "isalpha(): Check karta hai ki string me sirf alphabetic letters hain (a-z) aur spaces ya numbers nahi hain. Agar sirf letters hain toh True, warna False.\n",
    "\n",
    "swapcase(): String ke uppercase letters ko lowercase aur lowercase letters ko uppercase me convert kar deta hai.\n",
    "\n",
    "isalnum(): Check karta hai ki string me sirf alphabets aur numbers hain, aur koi special character nahi hai. Agar hain toh True, warna False.\n",
    "\n",
    "title(): String ke har word ka first letter capital kar deta hai aur baaki sab lowercase ho jate hain.\n",
    "\n",
    "islower(): Check karta hai ki string me saare letters lowercase hain ya nahi. Agar hain toh True, warna False.\n",
    "\n",
    "rfind(): String me kisi substring ya character ka last occurrence ka index return karta hai. Agar nahi mile toh -1 deta hai.\n",
    "\n",
    "partition(): String ko 3 parts me todta hai – specified separator ke pehle ka part, separator khud, aur separator ke baad ka part.\n",
    "\n",
    "split(): String ko specified separator ke basis par tod kar ek list me convert kar deta hai.\n",
    "\n",
    "join(): List ya iterable ke sab items ko specified separator ke saath ek string me combine kar deta hai."
   ]
  },
  {
   "cell_type": "markdown",
   "id": "5ab0886f-2420-4c43-883c-276aa54735de",
   "metadata": {},
   "source": [
    "# LISTS"
   ]
  },
  {
   "cell_type": "code",
   "execution_count": 68,
   "id": "a5be59f8-1a9c-494f-a3b7-9de9f5e7b750",
   "metadata": {},
   "outputs": [],
   "source": [
    "my_list=[1,2,3,'four','five']"
   ]
  },
  {
   "cell_type": "markdown",
   "id": "0c0c07c7-1104-408c-9b18-b604e748baf4",
   "metadata": {},
   "source": [
    "List: Python me list ek collection hai jo multiple items (jaise numbers, strings, etc.) ko store kar sakti hai. List square brackets ([]) me likhi jati hai, aur items comma se separate hote hain. List ka order maintain hota hai."
   ]
  },
  {
   "cell_type": "code",
   "execution_count": 70,
   "id": "c4376b5c-44cb-4889-9d1a-c96265c97c23",
   "metadata": {},
   "outputs": [
    {
     "data": {
      "text/plain": [
       "'four'"
      ]
     },
     "execution_count": 70,
     "metadata": {},
     "output_type": "execute_result"
    }
   ],
   "source": [
    "my_list[3]"
   ]
  },
  {
   "cell_type": "markdown",
   "id": "f81839ee-9c64-47e1-8f5d-bc23d14165bc",
   "metadata": {},
   "source": [
    "List Indexing: List me har item ka ek position hota hai, jise index kehte hain. Indexing 0 se start hoti hai, toh first item ka index 0 hoga, second ka 1, aur aise hi aage. Negative indexing bhi hoti hai, jo list ke end se start hoti hai (last item -1 hoga, uske pehle -2, etc.)."
   ]
  },
  {
   "cell_type": "code",
   "execution_count": 71,
   "id": "c1326658-fcd9-4c4a-bbde-f5acbf21b1fc",
   "metadata": {},
   "outputs": [],
   "source": [
    "my_list[3]='hello'"
   ]
  },
  {
   "cell_type": "code",
   "execution_count": 72,
   "id": "82d59c42-4e47-46e3-9d3c-c18918d52d12",
   "metadata": {},
   "outputs": [
    {
     "data": {
      "text/plain": [
       "[1, 2, 3, 'hello', 'five']"
      ]
     },
     "execution_count": 72,
     "metadata": {},
     "output_type": "execute_result"
    }
   ],
   "source": [
    "my_list"
   ]
  },
  {
   "cell_type": "markdown",
   "id": "84f55397-6804-4e8a-8508-9efab503735a",
   "metadata": {},
   "source": [
    "List Mutability: Lists mutable hoti hain, yaani aap inke items ko modify (change, add, remove) kar sakte hain bina naye object banaye.\n",
    "\n"
   ]
  },
  {
   "cell_type": "code",
   "execution_count": 74,
   "id": "a449d0dc-7c5e-4270-ad91-d27eef380c05",
   "metadata": {},
   "outputs": [],
   "source": [
    "list_one=[1,2,3]\n",
    "list_two=[4,5,6]\n",
    "list_three=[7,8,9]"
   ]
  },
  {
   "cell_type": "code",
   "execution_count": 75,
   "id": "d39e2127-ba02-49c5-a71a-6f960eb11660",
   "metadata": {},
   "outputs": [],
   "source": [
    "final_list=list_one+list_two+list_three"
   ]
  },
  {
   "cell_type": "code",
   "execution_count": 76,
   "id": "68ed501a-6542-4221-8f13-d414aa64ce2f",
   "metadata": {},
   "outputs": [
    {
     "data": {
      "text/plain": [
       "[1, 2, 3, 4, 5, 6, 7, 8, 9]"
      ]
     },
     "execution_count": 76,
     "metadata": {},
     "output_type": "execute_result"
    }
   ],
   "source": [
    "final_list"
   ]
  },
  {
   "cell_type": "markdown",
   "id": "bdde144a-dc25-47dc-a912-27005dca148d",
   "metadata": {},
   "source": [
    "List Concatenation: Concatenation ka matlab hota hai do ya zyada lists ko combine karna. Lists ko + operator se jod kar ek new combined list bana sakte hain."
   ]
  },
  {
   "cell_type": "code",
   "execution_count": 77,
   "id": "a33e5461-8b55-469d-8730-627ae6603497",
   "metadata": {},
   "outputs": [],
   "source": [
    "my_nlist=[1,2,3,4,'abc','xyz']"
   ]
  },
  {
   "cell_type": "code",
   "execution_count": 78,
   "id": "1ee57723-174d-41fa-be37-55600dd8b1c4",
   "metadata": {},
   "outputs": [
    {
     "data": {
      "text/plain": [
       "[1, 2, 3, 4, 'abc', 'xyz', '100']"
      ]
     },
     "execution_count": 78,
     "metadata": {},
     "output_type": "execute_result"
    }
   ],
   "source": [
    "my_nlist.append('100')\n",
    "my_nlist"
   ]
  },
  {
   "cell_type": "markdown",
   "id": "03304004-7a42-4a40-bd51-e03b7297ddc7",
   "metadata": {},
   "source": [
    "append(): List ke end me ek naya item add karta hai. Yeh list ka size badha deta hai aur naye item ko last position par insert kar deta hai."
   ]
  },
  {
   "cell_type": "code",
   "execution_count": 79,
   "id": "681a618b-8b17-4dc9-988f-7f9a2a8a4bcc",
   "metadata": {},
   "outputs": [
    {
     "data": {
      "text/plain": [
       "[1, 2, 3, 4, 'abc', 'xyz']"
      ]
     },
     "execution_count": 79,
     "metadata": {},
     "output_type": "execute_result"
    }
   ],
   "source": [
    "my_nlist.pop()\n",
    "my_nlist"
   ]
  },
  {
   "cell_type": "markdown",
   "id": "c9aaf8ed-f78b-4ddb-8755-9791aa89fb19",
   "metadata": {},
   "source": [
    "pop(): List ke last item ko remove karta hai aur us item ko return bhi karta hai. Agar specific index diya ho, toh us index ka item remove kar sakta hai.\n",
    "\n"
   ]
  },
  {
   "cell_type": "code",
   "execution_count": 80,
   "id": "981a9040-814b-4abe-bd28-7b5bf2c1706e",
   "metadata": {},
   "outputs": [
    {
     "data": {
      "text/plain": [
       "[1, 2, 4, 'abc', 'xyz']"
      ]
     },
     "execution_count": 80,
     "metadata": {},
     "output_type": "execute_result"
    }
   ],
   "source": [
    "my_nlist.pop(2)\n",
    "my_nlist"
   ]
  },
  {
   "cell_type": "code",
   "execution_count": 85,
   "id": "a8058cf9-02f6-43bd-bd04-30fed00fa725",
   "metadata": {},
   "outputs": [
    {
     "data": {
      "text/plain": [
       "[1, 2, 3, 5, 6, 8]"
      ]
     },
     "execution_count": 85,
     "metadata": {},
     "output_type": "execute_result"
    }
   ],
   "source": [
    "my_num_list=[1,2,3,8,5,6]\n",
    "my_num_list.sort()\n",
    "my_num_list"
   ]
  },
  {
   "cell_type": "markdown",
   "id": "93fd1e11-c903-42bb-9156-402dd44e4500",
   "metadata": {},
   "source": [
    "sort(): List ke items ko ascending ya descending order me arrange kar deta hai. Default ascending order me sort karta hai.\n",
    "\n"
   ]
  },
  {
   "cell_type": "code",
   "execution_count": 86,
   "id": "1c576ac4-1585-41d0-966e-47d23d946503",
   "metadata": {},
   "outputs": [
    {
     "data": {
      "text/plain": [
       "[6, 5, 8, 3, 2, 1]"
      ]
     },
     "execution_count": 86,
     "metadata": {},
     "output_type": "execute_result"
    }
   ],
   "source": [
    "my_num_list=[1,2,3,8,5,6]\n",
    "my_num_list.reverse()\n",
    "my_num_list"
   ]
  },
  {
   "cell_type": "markdown",
   "id": "22449538-ad05-4719-bcfe-b877d544857e",
   "metadata": {},
   "source": [
    "reverse(): List ke items ko reverse order me arrange kar deta hai, yaani pehla item last position pe aur last item pehla ho jata hai."
   ]
  },
  {
   "cell_type": "markdown",
   "id": "4e5e0560-0210-4b85-aa9b-37bdb9f06193",
   "metadata": {},
   "source": [
    "# THANKS"
   ]
  },
  {
   "cell_type": "markdown",
   "id": "93764900-c1db-4f4d-aee2-90058b9336a8",
   "metadata": {},
   "source": []
  }
 ],
 "metadata": {
  "kernelspec": {
   "display_name": "Python 3 (ipykernel)",
   "language": "python",
   "name": "python3"
  },
  "language_info": {
   "codemirror_mode": {
    "name": "ipython",
    "version": 3
   },
   "file_extension": ".py",
   "mimetype": "text/x-python",
   "name": "python",
   "nbconvert_exporter": "python",
   "pygments_lexer": "ipython3",
   "version": "3.11.7"
  }
 },
 "nbformat": 4,
 "nbformat_minor": 5
}
